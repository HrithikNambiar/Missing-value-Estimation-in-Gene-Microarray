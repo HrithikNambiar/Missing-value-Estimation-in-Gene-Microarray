{
  "nbformat": 4,
  "nbformat_minor": 0,
  "metadata": {
    "colab": {
      "provenance": [],
      "collapsed_sections": [
        "KMJNxpXSGuc7",
        "gS6GtX5YDdNK",
        "3VYkEk68FsQU",
        "mbpUFlw9Fxk4",
        "cmQbJ8z8RaAZ",
        "NeRARsPaRzZK"
      ],
      "include_colab_link": true
    },
    "kernelspec": {
      "name": "python3",
      "display_name": "Python 3"
    },
    "language_info": {
      "name": "python"
    }
  },
  "cells": [
    {
      "cell_type": "markdown",
      "metadata": {
        "id": "view-in-github",
        "colab_type": "text"
      },
      "source": [
        "<a href=\"https://colab.research.google.com/github/HrithikNambiar/Missing-value-Estimation-in-Gene-Microarray/blob/main/Missing_value_Estimation_in_Gene_Microarray.ipynb\" target=\"_parent\"><img src=\"https://colab.research.google.com/assets/colab-badge.svg\" alt=\"Open In Colab\"/></a>"
      ]
    },
    {
      "cell_type": "markdown",
      "source": [
        "# **Missing value estimation methods for DNA microarrays**\n",
        "\n",
        "\n",
        "\n",
        "> **Hrithik Nambiar (2019A7PS0100G)** | **Shreyas Hebbar S (2020A7PS1003G)** | **Arnav Mishra (2020AAPS1237G)**\n",
        "\n"
      ],
      "metadata": {
        "id": "CLP2I0eTPvrZ"
      }
    },
    {
      "cell_type": "markdown",
      "source": [
        "**Honour code: I shall be honest in my efforts and will make my parents proud.**\n",
        "```\n",
        "# Signature: Hrithik Nambiar, Arnav Mishra, Shreyas Hebbar S\n",
        "Date: 05/12/2022\n",
        "```\n",
        "\n",
        "This is the code for the final project for BITS F464: Machine Learning. We have implemented all aspects of the paper \"Missing value estimation methods for DNA microarrays\".\n",
        "\n",
        "Reference:\n",
        "\n",
        "\n",
        "> [1] Troyanskaya, O., Cantor, M., Sherlock, G., Brown, P., Hastie, T., Tibshirani, R., Botstein, D. and Altman, R.B., 2001. Missing value estimation methods for DNA microarrays. Bioinformatics, 17(6), pp.520-525. \n",
        "\n",
        "Repo link - https://github.com/HrithikNambiar/Missing-value-Estimation-in-Gene-Microarray\n",
        "\n",
        "\n"
      ],
      "metadata": {
        "id": "qk3jgU94G3Qz"
      }
    },
    {
      "cell_type": "code",
      "source": [
        "from google.colab import drive\n",
        "drive.mount('/content/drive')"
      ],
      "metadata": {
        "colab": {
          "base_uri": "https://localhost:8080/"
        },
        "id": "baUslDsRPdYp",
        "outputId": "9baa3ce7-9d5d-458f-a1ef-1b42e8d84a9e"
      },
      "execution_count": null,
      "outputs": [
        {
          "output_type": "stream",
          "name": "stdout",
          "text": [
            "Drive already mounted at /content/drive; to attempt to forcibly remount, call drive.mount(\"/content/drive\", force_remount=True).\n"
          ]
        }
      ]
    },
    {
      "cell_type": "code",
      "source": [
        "!cd '/content/drive/MyDrive/Missing value estimation'"
      ],
      "metadata": {
        "id": "af1FY9NITrVv"
      },
      "execution_count": null,
      "outputs": []
    },
    {
      "cell_type": "code",
      "execution_count": null,
      "metadata": {
        "id": "DQTh6gXZFWDg"
      },
      "outputs": [],
      "source": [
        "#imports \n",
        "\n",
        "import pandas as pd\n",
        "import numpy as np\n",
        "import math\n",
        "import random\n",
        "import copy\n",
        "import matplotlib.pyplot as plt\n",
        "from sklearn.impute import KNNImputer "
      ]
    },
    {
      "cell_type": "markdown",
      "source": [
        "## Library "
      ],
      "metadata": {
        "id": "2LE3JTjBSRuB"
      }
    },
    {
      "cell_type": "markdown",
      "source": [
        "Here we have listed out all the functions we have utilized below"
      ],
      "metadata": {
        "id": "-ZAXzrk4STrF"
      }
    },
    {
      "cell_type": "code",
      "source": [
        "def corrupt(df: pd.DataFrame, percentage):\n",
        "  arr = np.array(df) # A 2D array\n",
        "  selection_list = list(range(0, arr.shape[0]*arr.shape[1]))\n",
        "  for i in range(0, int(arr.shape[0]*arr.shape[1]*(percentage*100))//100):\n",
        "    indx = random.choice(selection_list)\n",
        "    selection_list.remove(indx)\n",
        "    arr[indx//arr.shape[1], indx%arr.shape[1]] = np.NaN \n",
        "  l1 = np.argwhere(np.isnan(arr))\n",
        "  return arr, l1;\n",
        "\n",
        "# KNN impute -  without using library\n",
        "\n",
        "# def distance(i, j, array: np.array):\n",
        "#   temp = array[i, :] - array[j, :]\n",
        "#   weight = (temp.size - 1)/(np.argwhere(~np.isnan(temp)).size)\n",
        "#   temp = temp[~np.isnan(temp)]\n",
        "#   sum = np.nansum(temp.T@temp)\n",
        "#   rms = math.sqrt(weight*sum)\n",
        "#   return rms\n",
        "\n",
        "# def knn_impute(df: pd.DataFrame, percentage, k):\n",
        "#   array, l1 = corrupt(df, percentage) #l1 is the list of indices which have NaN values\n",
        "#   for x in l1:\n",
        "#     l2 = [] #used to store the distances \n",
        "#     neighbours = [] #used to store the indices of the nearest neighbours\n",
        "#     for y in range(0 ,array.shape[0]):\n",
        "#       l2.append(distance(x[0], y, array))\n",
        "#     l2 = np.array(l2)\n",
        "#     for z in range(0, k):\n",
        "#       neighbours.append(np.argmax(l2))\n",
        "#       l2[neighbours[-1]] = 0;\n",
        "#     mean = 0\n",
        "#     for z in neighbours:\n",
        "#       mean += array[z, x[1]]\n",
        "#     array[x[0], x[1]] = mean/k\n",
        "#   return array\n",
        "\n",
        "def knn_impute_lib(df, percentage, k):\n",
        "  \"\"\"\n",
        "  using the sklearn library - we noticed this was faster than our implementation above.\n",
        "  \"\"\"\n",
        "  original = np.array(df)\n",
        "  corrupted, index = corrupt(df, percentage)\n",
        "  imputer = KNNImputer(n_neighbors=k)\n",
        "  knn_imp_data = imputer.fit_transform(corrupted)\n",
        "  return knn_imp_data, corrupted, original, index\n",
        "\n",
        "# row average\n",
        "def row_avg_impute(df, percentage):\n",
        "  original = np.array(df)\n",
        "  corrupted, index = corrupt(df, percentage)\n",
        "  imputed = np.copy(corrupted)\n",
        "  means = np.nanmean(corrupted, axis = 0)\n",
        "  for i in index:\n",
        "    imputed[i[0]][i[1]] = means[i[1]]\n",
        "  return imputed, corrupted, original, index\n",
        "\n",
        "# SVD\n",
        "\n",
        "# normalized rmse\n",
        "def norm_rmse(imputed_data: np.array, data: np.array):\n",
        "  \"\"\"\n",
        "  We tried multiple ways to normalize. However the rmse wouldn't be between 0-1 as mentioned in the paper. \n",
        "  The normalization method is not clearly defined in the method. As mentioned in the paper, we divied by the average of all data entries (np.mean()).\n",
        "  However for all three datasets , the mean is very low (-.08 for spellman). Leading to larger rmse values.\n",
        "  Finally, we have used the mean to find rmse as in paper, graphs follow in the notebook.\n",
        "  \"\"\"\n",
        "  error = 0\n",
        "  sum = 0\n",
        "  normal = 1\n",
        "  # normal = np.mean(data)\n",
        "  for i in range(0,len(imputed_data)):\n",
        "    for j in range(0,len(imputed_data[0])):\n",
        "      error+= ((imputed_data[i][j] - data[i][j])/normal)**2\n",
        "  norm_error = error**(0.5) # paper says average value, but since small number, norm rmse willbe a large number\n",
        "  return norm_error"
      ],
      "metadata": {
        "id": "gf4wZZvASTzP"
      },
      "execution_count": null,
      "outputs": []
    },
    {
      "cell_type": "markdown",
      "source": [
        "## Dataset 1: Spellman [ time series, not noisy ]"
      ],
      "metadata": {
        "id": "KMJNxpXSGuc7"
      }
    },
    {
      "cell_type": "code",
      "source": [
        "df = pd.read_csv('/content/drive/MyDrive/Missing value estimation/2010.Spellman98_cdc15.flt.knn.avg.pcl', delimiter = '\\t')\n",
        "df.drop([0], axis = 0, inplace = True) #dropping eweight\n",
        "df.drop([\"YORF\", \"GWEIGHT\", \"NAME\"], axis = 1, inplace = True) #dropping yorf, name and gweight\n",
        "df.head()"
      ],
      "metadata": {
        "colab": {
          "base_uri": "https://localhost:8080/",
          "height": 369
        },
        "id": "GLk9HnABVQ82",
        "outputId": "92f8e80b-3544-41a6-fcdb-0d439724aebe"
      },
      "execution_count": null,
      "outputs": [
        {
          "output_type": "execute_result",
          "data": {
            "text/plain": [
              "   cdc 15 010 min; src: asynchronous<->010 min  \\\n",
              "1                                        0.921   \n",
              "2                                        0.807   \n",
              "3                                       -0.737   \n",
              "4                                       -0.948   \n",
              "5                                       -0.495   \n",
              "\n",
              "   cdc15 030 min; src: asynchronous<->030 min  \\\n",
              "1                                       0.979   \n",
              "2                                       0.459   \n",
              "3                                       0.082   \n",
              "4                                      -0.013   \n",
              "5                                       0.141   \n",
              "\n",
              "   cdc15 050 min; src: asynchronous<->050 min  \\\n",
              "1                                       1.189   \n",
              "2                                      -0.140   \n",
              "3                                      -0.039   \n",
              "4                                       0.042   \n",
              "5                                      -2.092   \n",
              "\n",
              "   cdc15 070 min; src: asynchronous<->070 min  \\\n",
              "1                                       0.802   \n",
              "2                                       0.211   \n",
              "3                                      -0.381   \n",
              "4                                      -2.322   \n",
              "5                                      -0.590   \n",
              "\n",
              "   cdc15 080 min; src: Asynchronous<->80 minutes  \\\n",
              "1                                          0.263   \n",
              "2                                          0.087   \n",
              "3                                         -0.017   \n",
              "4                                         -0.221   \n",
              "5                                         -0.010   \n",
              "\n",
              "   cdc15 090 min; src: asynchronous<->090 min  \\\n",
              "1                                      0.6680   \n",
              "2                                      0.0770   \n",
              "3                                     -0.1560   \n",
              "4                                     -1.5500   \n",
              "5                                     -0.4135   \n",
              "\n",
              "   cdc15 100 min; src: asynchronous<->100 min  \\\n",
              "1                                       0.414   \n",
              "2                                      -0.095   \n",
              "3                                      -0.867   \n",
              "4                                       0.402   \n",
              "5                                      -2.209   \n",
              "\n",
              "   cdc15 110 min; src: asynchronous<->110 min  \\\n",
              "1                                      0.5820   \n",
              "2                                      0.2460   \n",
              "3                                     -0.4850   \n",
              "4                                     -1.7370   \n",
              "5                                     -0.3065   \n",
              "\n",
              "   cdc15 120 min; src: asynchronous<->120 min  \\\n",
              "1                                       0.851   \n",
              "2                                      -0.355   \n",
              "3                                      -1.040   \n",
              "4                                       0.198   \n",
              "5                                      -0.029   \n",
              "\n",
              "   cdc15 130 min; src: asynchronous<->130 min  ...  \\\n",
              "1                                       0.823  ...   \n",
              "2                                       0.198  ...   \n",
              "3                                      -0.514  ...   \n",
              "4                                      -2.678  ...   \n",
              "5                                      -1.355  ...   \n",
              "\n",
              "   cdc15 180 min; src: asynchronous<->180 min  \\\n",
              "1                                     -0.0980   \n",
              "2                                     -0.3580   \n",
              "3                                      0.9160   \n",
              "4                                      0.9400   \n",
              "5                                     -0.8915   \n",
              "\n",
              "   cdc15 190 min; src: asynchronous<->190 min  \\\n",
              "1                                       0.331   \n",
              "2                                       0.032   \n",
              "3                                      -0.176   \n",
              "4                                      -0.585   \n",
              "5                                      -0.278   \n",
              "\n",
              "   cdc15 200 min; src: asynchronous<->200 min  \\\n",
              "1                                       0.021   \n",
              "2                                      -0.052   \n",
              "3                                       0.329   \n",
              "4                                      -1.318   \n",
              "5                                      -1.897   \n",
              "\n",
              "   cdc15 210 min; src: asynchronous<->210 min  \\\n",
              "1                                       0.440   \n",
              "2                                       0.198   \n",
              "3                                       0.036   \n",
              "4                                       0.322   \n",
              "5                                       0.175   \n",
              "\n",
              "   cdc15 220 min; src: Asynchromous<->220 minutes  \\\n",
              "1                                          -0.101   \n",
              "2                                          -0.866   \n",
              "3                                           0.156   \n",
              "4                                           0.462   \n",
              "5                                           0.246   \n",
              "\n",
              "   cdc15 230 min; src: asynchronous<->230 min  \\\n",
              "1                                      0.9310   \n",
              "2                                     -0.6790   \n",
              "3                                      1.1060   \n",
              "4                                      0.3150   \n",
              "5                                      0.2305   \n",
              "\n",
              "   cdc15 240 min; src: asynchronous<->240 min  \\\n",
              "1                                       0.134   \n",
              "2                                      -1.210   \n",
              "3                                       0.164   \n",
              "4                                       0.363   \n",
              "5                                      -0.763   \n",
              "\n",
              "   cdc15 250 min; src: asynchronous<->250 min  \\\n",
              "1                                       0.661   \n",
              "2                                      -0.430   \n",
              "3                                      -0.600   \n",
              "4                                      -0.520   \n",
              "5                                      -0.397   \n",
              "\n",
              "   cdc15 270 min; src: asynchronous<->270 min  \\\n",
              "1                                       0.744   \n",
              "2                                      -0.750   \n",
              "3                                      -0.868   \n",
              "4                                      -1.308   \n",
              "5                                       0.112   \n",
              "\n",
              "   cdc15 290 min; src: Asynchronous Control<->290 min  \n",
              "1                                             0.6150   \n",
              "2                                            -0.7940   \n",
              "3                                            -0.1810   \n",
              "4                                            -0.9770   \n",
              "5                                            -1.1035   \n",
              "\n",
              "[5 rows x 25 columns]"
            ],
            "text/html": [
              "\n",
              "  <div id=\"df-106e347b-544f-4147-b8b7-b9dfb1a753cc\">\n",
              "    <div class=\"colab-df-container\">\n",
              "      <div>\n",
              "<style scoped>\n",
              "    .dataframe tbody tr th:only-of-type {\n",
              "        vertical-align: middle;\n",
              "    }\n",
              "\n",
              "    .dataframe tbody tr th {\n",
              "        vertical-align: top;\n",
              "    }\n",
              "\n",
              "    .dataframe thead th {\n",
              "        text-align: right;\n",
              "    }\n",
              "</style>\n",
              "<table border=\"1\" class=\"dataframe\">\n",
              "  <thead>\n",
              "    <tr style=\"text-align: right;\">\n",
              "      <th></th>\n",
              "      <th>cdc 15 010 min; src: asynchronous&lt;-&gt;010 min</th>\n",
              "      <th>cdc15 030 min; src: asynchronous&lt;-&gt;030 min</th>\n",
              "      <th>cdc15 050 min; src: asynchronous&lt;-&gt;050 min</th>\n",
              "      <th>cdc15 070 min; src: asynchronous&lt;-&gt;070 min</th>\n",
              "      <th>cdc15 080 min; src: Asynchronous&lt;-&gt;80 minutes</th>\n",
              "      <th>cdc15 090 min; src: asynchronous&lt;-&gt;090 min</th>\n",
              "      <th>cdc15 100 min; src: asynchronous&lt;-&gt;100 min</th>\n",
              "      <th>cdc15 110 min; src: asynchronous&lt;-&gt;110 min</th>\n",
              "      <th>cdc15 120 min; src: asynchronous&lt;-&gt;120 min</th>\n",
              "      <th>cdc15 130 min; src: asynchronous&lt;-&gt;130 min</th>\n",
              "      <th>...</th>\n",
              "      <th>cdc15 180 min; src: asynchronous&lt;-&gt;180 min</th>\n",
              "      <th>cdc15 190 min; src: asynchronous&lt;-&gt;190 min</th>\n",
              "      <th>cdc15 200 min; src: asynchronous&lt;-&gt;200 min</th>\n",
              "      <th>cdc15 210 min; src: asynchronous&lt;-&gt;210 min</th>\n",
              "      <th>cdc15 220 min; src: Asynchromous&lt;-&gt;220 minutes</th>\n",
              "      <th>cdc15 230 min; src: asynchronous&lt;-&gt;230 min</th>\n",
              "      <th>cdc15 240 min; src: asynchronous&lt;-&gt;240 min</th>\n",
              "      <th>cdc15 250 min; src: asynchronous&lt;-&gt;250 min</th>\n",
              "      <th>cdc15 270 min; src: asynchronous&lt;-&gt;270 min</th>\n",
              "      <th>cdc15 290 min; src: Asynchronous Control&lt;-&gt;290 min</th>\n",
              "    </tr>\n",
              "  </thead>\n",
              "  <tbody>\n",
              "    <tr>\n",
              "      <th>1</th>\n",
              "      <td>0.921</td>\n",
              "      <td>0.979</td>\n",
              "      <td>1.189</td>\n",
              "      <td>0.802</td>\n",
              "      <td>0.263</td>\n",
              "      <td>0.6680</td>\n",
              "      <td>0.414</td>\n",
              "      <td>0.5820</td>\n",
              "      <td>0.851</td>\n",
              "      <td>0.823</td>\n",
              "      <td>...</td>\n",
              "      <td>-0.0980</td>\n",
              "      <td>0.331</td>\n",
              "      <td>0.021</td>\n",
              "      <td>0.440</td>\n",
              "      <td>-0.101</td>\n",
              "      <td>0.9310</td>\n",
              "      <td>0.134</td>\n",
              "      <td>0.661</td>\n",
              "      <td>0.744</td>\n",
              "      <td>0.6150</td>\n",
              "    </tr>\n",
              "    <tr>\n",
              "      <th>2</th>\n",
              "      <td>0.807</td>\n",
              "      <td>0.459</td>\n",
              "      <td>-0.140</td>\n",
              "      <td>0.211</td>\n",
              "      <td>0.087</td>\n",
              "      <td>0.0770</td>\n",
              "      <td>-0.095</td>\n",
              "      <td>0.2460</td>\n",
              "      <td>-0.355</td>\n",
              "      <td>0.198</td>\n",
              "      <td>...</td>\n",
              "      <td>-0.3580</td>\n",
              "      <td>0.032</td>\n",
              "      <td>-0.052</td>\n",
              "      <td>0.198</td>\n",
              "      <td>-0.866</td>\n",
              "      <td>-0.6790</td>\n",
              "      <td>-1.210</td>\n",
              "      <td>-0.430</td>\n",
              "      <td>-0.750</td>\n",
              "      <td>-0.7940</td>\n",
              "    </tr>\n",
              "    <tr>\n",
              "      <th>3</th>\n",
              "      <td>-0.737</td>\n",
              "      <td>0.082</td>\n",
              "      <td>-0.039</td>\n",
              "      <td>-0.381</td>\n",
              "      <td>-0.017</td>\n",
              "      <td>-0.1560</td>\n",
              "      <td>-0.867</td>\n",
              "      <td>-0.4850</td>\n",
              "      <td>-1.040</td>\n",
              "      <td>-0.514</td>\n",
              "      <td>...</td>\n",
              "      <td>0.9160</td>\n",
              "      <td>-0.176</td>\n",
              "      <td>0.329</td>\n",
              "      <td>0.036</td>\n",
              "      <td>0.156</td>\n",
              "      <td>1.1060</td>\n",
              "      <td>0.164</td>\n",
              "      <td>-0.600</td>\n",
              "      <td>-0.868</td>\n",
              "      <td>-0.1810</td>\n",
              "    </tr>\n",
              "    <tr>\n",
              "      <th>4</th>\n",
              "      <td>-0.948</td>\n",
              "      <td>-0.013</td>\n",
              "      <td>0.042</td>\n",
              "      <td>-2.322</td>\n",
              "      <td>-0.221</td>\n",
              "      <td>-1.5500</td>\n",
              "      <td>0.402</td>\n",
              "      <td>-1.7370</td>\n",
              "      <td>0.198</td>\n",
              "      <td>-2.678</td>\n",
              "      <td>...</td>\n",
              "      <td>0.9400</td>\n",
              "      <td>-0.585</td>\n",
              "      <td>-1.318</td>\n",
              "      <td>0.322</td>\n",
              "      <td>0.462</td>\n",
              "      <td>0.3150</td>\n",
              "      <td>0.363</td>\n",
              "      <td>-0.520</td>\n",
              "      <td>-1.308</td>\n",
              "      <td>-0.9770</td>\n",
              "    </tr>\n",
              "    <tr>\n",
              "      <th>5</th>\n",
              "      <td>-0.495</td>\n",
              "      <td>0.141</td>\n",
              "      <td>-2.092</td>\n",
              "      <td>-0.590</td>\n",
              "      <td>-0.010</td>\n",
              "      <td>-0.4135</td>\n",
              "      <td>-2.209</td>\n",
              "      <td>-0.3065</td>\n",
              "      <td>-0.029</td>\n",
              "      <td>-1.355</td>\n",
              "      <td>...</td>\n",
              "      <td>-0.8915</td>\n",
              "      <td>-0.278</td>\n",
              "      <td>-1.897</td>\n",
              "      <td>0.175</td>\n",
              "      <td>0.246</td>\n",
              "      <td>0.2305</td>\n",
              "      <td>-0.763</td>\n",
              "      <td>-0.397</td>\n",
              "      <td>0.112</td>\n",
              "      <td>-1.1035</td>\n",
              "    </tr>\n",
              "  </tbody>\n",
              "</table>\n",
              "<p>5 rows × 25 columns</p>\n",
              "</div>\n",
              "      <button class=\"colab-df-convert\" onclick=\"convertToInteractive('df-106e347b-544f-4147-b8b7-b9dfb1a753cc')\"\n",
              "              title=\"Convert this dataframe to an interactive table.\"\n",
              "              style=\"display:none;\">\n",
              "        \n",
              "  <svg xmlns=\"http://www.w3.org/2000/svg\" height=\"24px\"viewBox=\"0 0 24 24\"\n",
              "       width=\"24px\">\n",
              "    <path d=\"M0 0h24v24H0V0z\" fill=\"none\"/>\n",
              "    <path d=\"M18.56 5.44l.94 2.06.94-2.06 2.06-.94-2.06-.94-.94-2.06-.94 2.06-2.06.94zm-11 1L8.5 8.5l.94-2.06 2.06-.94-2.06-.94L8.5 2.5l-.94 2.06-2.06.94zm10 10l.94 2.06.94-2.06 2.06-.94-2.06-.94-.94-2.06-.94 2.06-2.06.94z\"/><path d=\"M17.41 7.96l-1.37-1.37c-.4-.4-.92-.59-1.43-.59-.52 0-1.04.2-1.43.59L10.3 9.45l-7.72 7.72c-.78.78-.78 2.05 0 2.83L4 21.41c.39.39.9.59 1.41.59.51 0 1.02-.2 1.41-.59l7.78-7.78 2.81-2.81c.8-.78.8-2.07 0-2.86zM5.41 20L4 18.59l7.72-7.72 1.47 1.35L5.41 20z\"/>\n",
              "  </svg>\n",
              "      </button>\n",
              "      \n",
              "  <style>\n",
              "    .colab-df-container {\n",
              "      display:flex;\n",
              "      flex-wrap:wrap;\n",
              "      gap: 12px;\n",
              "    }\n",
              "\n",
              "    .colab-df-convert {\n",
              "      background-color: #E8F0FE;\n",
              "      border: none;\n",
              "      border-radius: 50%;\n",
              "      cursor: pointer;\n",
              "      display: none;\n",
              "      fill: #1967D2;\n",
              "      height: 32px;\n",
              "      padding: 0 0 0 0;\n",
              "      width: 32px;\n",
              "    }\n",
              "\n",
              "    .colab-df-convert:hover {\n",
              "      background-color: #E2EBFA;\n",
              "      box-shadow: 0px 1px 2px rgba(60, 64, 67, 0.3), 0px 1px 3px 1px rgba(60, 64, 67, 0.15);\n",
              "      fill: #174EA6;\n",
              "    }\n",
              "\n",
              "    [theme=dark] .colab-df-convert {\n",
              "      background-color: #3B4455;\n",
              "      fill: #D2E3FC;\n",
              "    }\n",
              "\n",
              "    [theme=dark] .colab-df-convert:hover {\n",
              "      background-color: #434B5C;\n",
              "      box-shadow: 0px 1px 3px 1px rgba(0, 0, 0, 0.15);\n",
              "      filter: drop-shadow(0px 1px 2px rgba(0, 0, 0, 0.3));\n",
              "      fill: #FFFFFF;\n",
              "    }\n",
              "  </style>\n",
              "\n",
              "      <script>\n",
              "        const buttonEl =\n",
              "          document.querySelector('#df-106e347b-544f-4147-b8b7-b9dfb1a753cc button.colab-df-convert');\n",
              "        buttonEl.style.display =\n",
              "          google.colab.kernel.accessAllowed ? 'block' : 'none';\n",
              "\n",
              "        async function convertToInteractive(key) {\n",
              "          const element = document.querySelector('#df-106e347b-544f-4147-b8b7-b9dfb1a753cc');\n",
              "          const dataTable =\n",
              "            await google.colab.kernel.invokeFunction('convertToInteractive',\n",
              "                                                     [key], {});\n",
              "          if (!dataTable) return;\n",
              "\n",
              "          const docLinkHtml = 'Like what you see? Visit the ' +\n",
              "            '<a target=\"_blank\" href=https://colab.research.google.com/notebooks/data_table.ipynb>data table notebook</a>'\n",
              "            + ' to learn more about interactive tables.';\n",
              "          element.innerHTML = '';\n",
              "          dataTable['output_type'] = 'display_data';\n",
              "          await google.colab.output.renderOutput(dataTable, element);\n",
              "          const docLink = document.createElement('div');\n",
              "          docLink.innerHTML = docLinkHtml;\n",
              "          element.appendChild(docLink);\n",
              "        }\n",
              "      </script>\n",
              "    </div>\n",
              "  </div>\n",
              "  "
            ]
          },
          "metadata": {},
          "execution_count": 4
        }
      ]
    },
    {
      "cell_type": "code",
      "source": [
        "df.info()"
      ],
      "metadata": {
        "colab": {
          "base_uri": "https://localhost:8080/"
        },
        "id": "Dsq-YadRVepb",
        "outputId": "11325215-8236-4064-af7b-99f0ca41cfa2"
      },
      "execution_count": null,
      "outputs": [
        {
          "output_type": "stream",
          "name": "stdout",
          "text": [
            "<class 'pandas.core.frame.DataFrame'>\n",
            "Int64Index: 5754 entries, 1 to 5754\n",
            "Data columns (total 25 columns):\n",
            " #   Column                                              Non-Null Count  Dtype  \n",
            "---  ------                                              --------------  -----  \n",
            " 0   cdc 15 010 min; src: asynchronous<->010 min         5754 non-null   float64\n",
            " 1   cdc15 030 min; src: asynchronous<->030 min          5754 non-null   float64\n",
            " 2   cdc15 050 min; src: asynchronous<->050 min          5754 non-null   float64\n",
            " 3   cdc15 070 min; src: asynchronous<->070 min          5754 non-null   float64\n",
            " 4   cdc15 080 min; src: Asynchronous<->80 minutes       5754 non-null   float64\n",
            " 5   cdc15 090 min; src: asynchronous<->090 min          5754 non-null   float64\n",
            " 6   cdc15 100 min; src: asynchronous<->100 min          5754 non-null   float64\n",
            " 7   cdc15 110 min; src: asynchronous<->110 min          5754 non-null   float64\n",
            " 8   cdc15 120 min; src: asynchronous<->120 min          5754 non-null   float64\n",
            " 9   cdc15 130 min; src: asynchronous<->130 min          5754 non-null   float64\n",
            " 10  cdc15 140 min; src: asynchronous<->140 min          5754 non-null   float64\n",
            " 11  cdc15 150 min; src: asynchronous<->150 min          5754 non-null   float64\n",
            " 12  cdc15 160 min; src: asynchronous<->160 min          5754 non-null   float64\n",
            " 13  cdc15 160 min repeat; src: asynchronous<->160 min   5754 non-null   float64\n",
            " 14  cdc15 170 min; src: asynchronous<->170 min          5754 non-null   float64\n",
            " 15  cdc15 180 min; src: asynchronous<->180 min          5754 non-null   float64\n",
            " 16  cdc15 190 min; src: asynchronous<->190 min          5754 non-null   float64\n",
            " 17  cdc15 200 min; src: asynchronous<->200 min          5754 non-null   float64\n",
            " 18  cdc15 210 min; src: asynchronous<->210 min          5754 non-null   float64\n",
            " 19  cdc15 220 min; src: Asynchromous<->220 minutes      5754 non-null   float64\n",
            " 20  cdc15 230 min; src: asynchronous<->230 min          5754 non-null   float64\n",
            " 21  cdc15 240 min; src: asynchronous<->240 min          5754 non-null   float64\n",
            " 22  cdc15 250 min; src: asynchronous<->250 min          5754 non-null   float64\n",
            " 23  cdc15 270 min; src: asynchronous<->270 min          5754 non-null   float64\n",
            " 24  cdc15 290 min; src: Asynchronous Control<->290 min  5754 non-null   float64\n",
            "dtypes: float64(25)\n",
            "memory usage: 1.1 MB\n"
          ]
        }
      ]
    },
    {
      "cell_type": "markdown",
      "source": [
        "## Corruption based on percentage &  Metric - RMSE"
      ],
      "metadata": {
        "id": "gS6GtX5YDdNK"
      }
    },
    {
      "cell_type": "code",
      "source": [
        "#function that removes X% of values from the dataset\n",
        "def corrupt(df, percentage):\n",
        "  arr = np.array(df)\n",
        "  selection_list = list(range(0, arr.shape[0]*arr.shape[1]))\n",
        "  for i in range(0, int(arr.shape[0]*arr.shape[1]*(percentage*100))//100):\n",
        "    indx = random.choice(selection_list)\n",
        "    selection_list.remove(indx)\n",
        "    arr[indx//arr.shape[1], indx%arr.shape[1]] = np.NaN\n",
        "  l1 = np.argwhere(np.isnan(arr))\n",
        "  return arr, l1\n",
        "\n",
        "# arr is the np array with missing values(NaN) and l1 is the list of the indices with missing value  \n",
        "a1, a2 = corrupt(df, .05)\n",
        "print(a1.shape)\n",
        "print(a2.shape)\n",
        "print(\"The corrupted data {}\".format(a1))\n",
        "print(\"The corrupt index {}\".format(a2))"
      ],
      "metadata": {
        "id": "lSlR15MNbIGz",
        "colab": {
          "base_uri": "https://localhost:8080/"
        },
        "outputId": "b2215849-aa17-4535-b782-b7b581c7f35f"
      },
      "execution_count": null,
      "outputs": [
        {
          "output_type": "stream",
          "name": "stdout",
          "text": [
            "(5754, 25)\n",
            "(7192, 2)\n",
            "The corrupted data [[ 0.921  0.979  1.189 ...  0.661  0.744  0.615]\n",
            " [ 0.807  0.459 -0.14  ... -0.43  -0.75  -0.794]\n",
            " [-0.737  0.082 -0.039 ... -0.6      nan -0.181]\n",
            " ...\n",
            " [ 0.193  0.021  0.14  ... -0.648 -0.426 -0.205]\n",
            " [-0.411  0.39   0.456 ... -0.235 -0.339    nan]\n",
            " [ 1.336  1.415  0.928 ...  0.122 -0.247  0.002]]\n",
            "The corrupt index [[   0   11]\n",
            " [   1   13]\n",
            " [   1   14]\n",
            " ...\n",
            " [5750   16]\n",
            " [5752   10]\n",
            " [5752   24]]\n"
          ]
        }
      ]
    },
    {
      "cell_type": "code",
      "source": [
        "#error\n",
        "def norm_rmse(imputed_data: np.array, data: np.array):\n",
        "  error = 0\n",
        "  sum = 0\n",
        "  mean = np.mean(data)\n",
        "  for i in range(0,len(imputed_data)):\n",
        "    for j in range(0,len(imputed_data[0])):\n",
        "      error+= ((imputed_data[i][j] - data[i][j]))**2\n",
        "  norm_error = (error)**(0.5) # paper says average value, but since small number, norm rmse willbe a large number\n",
        "  return norm_error"
      ],
      "metadata": {
        "id": "VlsLdNRrIKa4"
      },
      "execution_count": null,
      "outputs": []
    },
    {
      "cell_type": "markdown",
      "source": [
        "## KNN Imputatation"
      ],
      "metadata": {
        "id": "3VYkEk68FsQU"
      }
    },
    {
      "cell_type": "code",
      "source": [
        "#KNN\n",
        "\n",
        "def distance(i, j, array):\n",
        "  temp = array[i, :] - array[j, :]\n",
        "  weight = (temp.size - 1)/(np.argwhere(~np.isnan(temp)).size)\n",
        "  temp = temp[~np.isnan(temp)]\n",
        "  sum = np.nansum(temp.T@temp)\n",
        "  rms = math.sqrt(weight*sum)\n",
        "  return rms\n",
        "\n",
        "def knn_impute(df, percentage, k):\n",
        "  array, l1 = corrupt(df, percentage) #l1 is the list of indices which have NaN values\n",
        "  for x in l1:\n",
        "    l2 = [] #used to store the distances \n",
        "    neighbours = [] #used to store the indices of the nearest neighbours\n",
        "    for y in range(0 ,array.shape[0]):\n",
        "      l2.append(distance(x[0], y, array))\n",
        "    l2 = np.array(l2)\n",
        "    for z in range(0, k):\n",
        "      neighbours.append(np.argmax(l2))\n",
        "      l2[neighbours[-1]] = 0;\n",
        "    mean = 0\n",
        "    for z in neighbours:\n",
        "      mean += array[z, x[1]]\n",
        "    array[x[0], x[1]] = mean/k\n",
        "  return array\n",
        "\n",
        "# def knn_impute_lib(df, percentage, k):\n",
        "#   corrupted, index = corrupt(df, percentage)\n",
        "#   imputer = KNNImputer(n_neighbors=k)\n",
        "#   knn_imp_data = imputer.fit_transform(corrupted)\n",
        "#   return knn_imp_data, corrupted, index\n"
      ],
      "metadata": {
        "id": "JaeKkrxpFrWk"
      },
      "execution_count": null,
      "outputs": []
    },
    {
      "cell_type": "code",
      "source": [
        "# KNN - effect of neighbours\n",
        "plt.figure(figsize = (10, 10))\n",
        "plt.grid()\n",
        "plt.xlabel(\"Number of Genes Used as Neighbours\")\n",
        "plt.ylabel(\"RMSE Error\")\n",
        "l1 = [.01, .05, .1, .15, .2]\n",
        "for i in l1:\n",
        "  knn_error = []\n",
        "  for k in [1,3,5,12,17,23,92,458,916]:\n",
        "    imputed, cor, original, ind = knn_impute_lib(df, i, k)\n",
        "    error = norm_rmse(imputed, original)\n",
        "    knn_error.append(error)\n",
        "    print(\"The rmse for {} neighbours is {}\".format(k,error))\n",
        "  plt.plot(['1','3','5','12','17','23','92','458','916'], knn_error) #x axis use [1,3,5,12,17,23,92,458,916]!!\n",
        "\n",
        "plt.legend([\"1% entries missing\", \"5% entries missing\", \"10% entries missing\", \"15% entries missing\", \"20% entries missing\"], loc = \"upper right\")"
      ],
      "metadata": {
        "colab": {
          "base_uri": "https://localhost:8080/",
          "height": 1000
        },
        "outputId": "3f23605e-c303-4929-e9b1-99e8cf985f54",
        "id": "lZZC3PDaUWZx"
      },
      "execution_count": null,
      "outputs": [
        {
          "output_type": "stream",
          "name": "stdout",
          "text": [
            "The rmse for 1 neighbours is 24.31755156589576\n",
            "The rmse for 3 neighbours is 22.804577010328426\n",
            "The rmse for 5 neighbours is 19.89071142709581\n",
            "The rmse for 12 neighbours is 19.584090396203404\n",
            "The rmse for 17 neighbours is 21.259682635133775\n",
            "The rmse for 23 neighbours is 19.115563431030406\n",
            "The rmse for 92 neighbours is 21.10804940043662\n",
            "The rmse for 458 neighbours is 21.995929659809377\n",
            "The rmse for 916 neighbours is 22.290123737370667\n",
            "The rmse for 1 neighbours is 54.68697015880473\n",
            "The rmse for 3 neighbours is 47.28744445156661\n",
            "The rmse for 5 neighbours is 47.002940152998946\n",
            "The rmse for 12 neighbours is 44.43056206761155\n",
            "The rmse for 17 neighbours is 46.31868014866524\n",
            "The rmse for 23 neighbours is 44.99101667906349\n",
            "The rmse for 92 neighbours is 46.63141975259324\n",
            "The rmse for 458 neighbours is 48.92678395035754\n",
            "The rmse for 916 neighbours is 50.933330867131055\n",
            "The rmse for 1 neighbours is 79.4648219626144\n",
            "The rmse for 3 neighbours is 69.55274292083024\n",
            "The rmse for 5 neighbours is 64.0552351554374\n",
            "The rmse for 12 neighbours is 62.97343342165968\n",
            "The rmse for 17 neighbours is 65.25816756667025\n",
            "The rmse for 23 neighbours is 64.85299765962091\n",
            "The rmse for 92 neighbours is 65.13208113367862\n",
            "The rmse for 458 neighbours is 68.94905541644893\n",
            "The rmse for 916 neighbours is 72.55050648322441\n",
            "The rmse for 1 neighbours is 98.91718134212111\n",
            "The rmse for 3 neighbours is 84.42484627405472\n",
            "The rmse for 5 neighbours is 82.57163462109986\n",
            "The rmse for 12 neighbours is 81.05533878269608\n",
            "The rmse for 17 neighbours is 79.40465510391932\n",
            "The rmse for 23 neighbours is 79.42051423634203\n",
            "The rmse for 92 neighbours is 82.64966189206521\n",
            "The rmse for 458 neighbours is 87.87348001874894\n",
            "The rmse for 916 neighbours is 88.8110552620972\n",
            "The rmse for 1 neighbours is 116.2269424735931\n",
            "The rmse for 3 neighbours is 98.47232880465563\n",
            "The rmse for 5 neighbours is 98.6332453229984\n",
            "The rmse for 12 neighbours is 94.31469554744113\n",
            "The rmse for 17 neighbours is 93.15162599045445\n",
            "The rmse for 23 neighbours is 94.64170002882557\n",
            "The rmse for 92 neighbours is 96.62184164901232\n",
            "The rmse for 458 neighbours is 100.90205172250404\n",
            "The rmse for 916 neighbours is 105.16614145800222\n"
          ]
        },
        {
          "output_type": "execute_result",
          "data": {
            "text/plain": [
              "<matplotlib.legend.Legend at 0x7f85cf68fc70>"
            ]
          },
          "metadata": {},
          "execution_count": 30
        },
        {
          "output_type": "display_data",
          "data": {
            "text/plain": [
              "<Figure size 720x720 with 1 Axes>"
            ],
            "image/png": "[encoded data removed]"
          },
          "metadata": {
            "needs_background": "light"
          }
        }
      ]
    },
    {
      "cell_type": "code",
      "source": [
        "# knn best result for k =12 as seen above\n",
        "# we check the effect of different corruption levels\n",
        "l1 = [.01, .05, .1, .15, .2]\n",
        "knn_error = []\n",
        "for i in l1:\n",
        "  imputed, cor, original, ind = knn_impute_lib(df, i, 12)\n",
        "  error = norm_rmse(imputed, original)\n",
        "  knn_error.append(error)\n",
        "knn_error"
      ],
      "metadata": {
        "colab": {
          "base_uri": "https://localhost:8080/"
        },
        "id": "OiYrPHGqHNFU",
        "outputId": "e9fe09a8-b4d7-46d0-bafc-50d03dd3128f"
      },
      "execution_count": null,
      "outputs": [
        {
          "output_type": "execute_result",
          "data": {
            "text/plain": [
              "[21.73446475430465,\n",
              " 44.76559206580358,\n",
              " 63.606186277995796,\n",
              " 82.02006866944012,\n",
              " 93.9173429275148]"
            ]
          },
          "metadata": {},
          "execution_count": 59
        }
      ]
    },
    {
      "cell_type": "markdown",
      "source": [
        "## Row Average"
      ],
      "metadata": {
        "id": "mbpUFlw9Fxk4"
      }
    },
    {
      "cell_type": "code",
      "source": [
        "# row average\n",
        "def row_avg_impute(df, percentage):\n",
        "  original = np.array(df)\n",
        "  corrupted, index = corrupt(df, percentage)\n",
        "  imputed = np.copy(corrupted)\n",
        "  means = np.nanmean(corrupted, axis = 0)\n",
        "  for i in index:\n",
        "    imputed[i[0]][i[1]] = means[i[1]]\n",
        "  return imputed, corrupted, original, index"
      ],
      "metadata": {
        "id": "cHW6kW2NFzvd"
      },
      "execution_count": null,
      "outputs": []
    },
    {
      "cell_type": "code",
      "source": [
        "#row average - spellman for different corruption percentage\n",
        "l1 = [.01, .05, .1, .15, .2]\n",
        "ravg_error = []\n",
        "for i in l1:\n",
        "  imp1, cor1, ori1, ind1 = row_avg_impute(df,i)\n",
        "  ravg_error.append(norm_rmse(imp1,ori1))\n",
        "ravg_error"
      ],
      "metadata": {
        "colab": {
          "base_uri": "https://localhost:8080/"
        },
        "id": "1BP-KIU4Lr3S",
        "outputId": "0958e175-ae85-4f59-98f5-18ca5a64427b"
      },
      "execution_count": null,
      "outputs": [
        {
          "output_type": "execute_result",
          "data": {
            "text/plain": [
              "[27.548315014964054,\n",
              " 58.88465712629803,\n",
              " 85.08198348212319,\n",
              " 103.6151752469333,\n",
              " 120.24071515959976]"
            ]
          },
          "metadata": {},
          "execution_count": 73
        }
      ]
    },
    {
      "cell_type": "markdown",
      "source": [
        "## SVD Imputation"
      ],
      "metadata": {
        "id": "ClG1Oe9eK2MS"
      }
    },
    {
      "cell_type": "code",
      "source": [
        "def svdimpute(df, percentage_corrupt, threshold=0.01, max_steps=100, frac=0.2):\n",
        "    # set the missing indices as 0 to generate complete matrices -> change this to row average\n",
        "    array, indices = corrupt(df, percentage_corrupt)\n",
        "    mean = np.mean(array, 0)\n",
        "    for i in indices:\n",
        "        array[i[0]][i[1]]= mean[i[1]]\n",
        "    \n",
        "    error=np.inf\n",
        "    iters=0\n",
        "    original= np.array(df)\n",
        "    for iters in range(max_steps):\n",
        "        if(error<=threshold):\n",
        "            print(\"Threshold reached\")\n",
        "            break\n",
        "        u,s,vh = np.linalg.svd(array)\n",
        "        genes=int(len(vh)*frac)\n",
        "        # the gene, where missing value index removed. To be regressed\n",
        "        for i in indices:\n",
        "            ind=[]\n",
        "            for j in range(len(array[i[0]])):\n",
        "                if([i[0],j] not in indices):\n",
        "                    ind.append(j)\n",
        "            x=[]\n",
        "            for j in ind:\n",
        "                x.append(array[i[0]][j])\n",
        "            vh_temp=[]\n",
        "            for j in vh:\n",
        "                temp=list(j)\n",
        "                temp2=[]\n",
        "                for k in ind:\n",
        "                    temp2.append(temp[k])\n",
        "                vh_temp.append(temp2)\n",
        "            vh_temp=vh_temp[:genes]\n",
        "            \n",
        "            #regression to find coef\n",
        "            vh_temp=np.array(vh_temp)\n",
        "            x=np.array(x)\n",
        "            # solving Ax=b using lstsq\n",
        "            coeff=np.linalg.lstsq(vh_temp.T,x,rcond=None)[0]\n",
        "\n",
        "            #Set the missing value to the newly calculated one\n",
        "            array[i[0]][i[1]]=sum([coeff[j]*vh[j][i[1]] for j in range(len(coeff))])\n",
        "        iters+=1\n",
        "        if(iters>5):\n",
        "            #error calculation\n",
        "            error = norm_rmse(array,original)**0.5\n",
        "            \n",
        "        #Update old matrix to current one\n",
        "        original=copy.deepcopy(array)    \n",
        "                \n",
        "                \n",
        "    return array\n",
        "\n",
        "svdimpute(df, .01, 0.01, 100, 0.2)"
      ],
      "metadata": {
        "id": "d3fW4clihd7V",
        "colab": {
          "base_uri": "https://localhost:8080/"
        },
        "outputId": "55099180-6fa2-46bb-cff7-334974f638e0"
      },
      "execution_count": null,
      "outputs": [
        {
          "output_type": "stream",
          "name": "stdout",
          "text": [
            "Threshold reached\n"
          ]
        },
        {
          "output_type": "execute_result",
          "data": {
            "text/plain": [
              "array([[ 0.921,  0.979,  1.189, ...,  0.661,  0.744,  0.615],\n",
              "       [ 0.807,  0.459, -0.14 , ..., -0.43 , -0.75 , -0.794],\n",
              "       [-0.737,  0.082, -0.039, ..., -0.6  , -0.868, -0.181],\n",
              "       ...,\n",
              "       [ 0.193,  0.021,  0.14 , ...,  0.   , -0.426, -0.205],\n",
              "       [-0.411,  0.39 ,  0.456, ..., -0.235, -0.339, -0.326],\n",
              "       [ 1.336,  1.415,  0.928, ...,  0.122, -0.247,  0.002]])"
            ]
          },
          "metadata": {},
          "execution_count": 20
        }
      ]
    },
    {
      "cell_type": "code",
      "source": [
        "plt.figure(figsize = (10, 10))\n",
        "plt.grid()\n",
        "plt.xlabel(\"Number of eigengenes selected\")\n",
        "plt.ylabel(\"RMSE Error\")\n",
        "l1 = [.01, .05, .1, .15, .2]\n",
        "for i in l1:\n",
        "  knn_error = []\n",
        "  for k in [.05, .10 ,.15, .20]:\n",
        "    imputed = svdimpute(df, i , threshold=0.01, max_steps=100, frac= k)\n",
        "    error = norm_rmse(imputed, np.array(df))\n",
        "    knn_error.append(error)\n",
        "    print(\"The rmse for {} neighbours is {}\".format(k,error))\n",
        "  plt.plot(np.arange(1,5), knn_error) \n",
        "\n",
        "plt.legend([\"5% eigen vectors\", \"10% eigen vectors\", \"15% eigen vectors\", \"20% eigen vectors\"], loc = \"upper right\")"
      ],
      "metadata": {
        "id": "gSs8ysqLvW8V"
      },
      "execution_count": null,
      "outputs": []
    },
    {
      "cell_type": "markdown",
      "source": [
        "## Dataset 2: Di Risi [noisy time series]"
      ],
      "metadata": {
        "id": "cmQbJ8z8RaAZ"
      }
    },
    {
      "cell_type": "code",
      "source": [
        "df = pd.read_csv('/content/drive/MyDrive/Missing value estimation/DeRisi/2010.diauxic.pcl', delimiter = '\\t')\n",
        "df.drop([0], axis = 0, inplace = True) #dropping eweight\n",
        "df.drop([\"YORF\", \"NAME\", \"GWEIGHT\"], axis = 1, inplace = True) #dropping yorf, name and gweight\n",
        "df.head()"
      ],
      "metadata": {
        "colab": {
          "base_uri": "https://localhost:8080/",
          "height": 206
        },
        "outputId": "628e3a98-ddff-493a-e6e2-7101c9e88ffb",
        "id": "bkrIC9TW6f6j"
      },
      "execution_count": null,
      "outputs": [
        {
          "output_type": "execute_result",
          "data": {
            "text/plain": [
              "   0 hr  9.5 hr  11.5 hr  13.5 hr  15.5 hr  18.5 hr  20.5 hr\n",
              "1 -0.01    0.29    -0.42    -0.29    -0.07     0.04     0.06\n",
              "2  0.00    0.19     0.12    -0.36     0.06     0.11    -0.15\n",
              "3  0.06    0.03     0.07    -0.34    -0.03     0.08    -0.07\n",
              "4  0.15    0.00     0.11    -0.23     0.03     0.01    -0.03\n",
              "5  0.30    0.07     0.19    -0.23    -0.09     0.04    -0.10"
            ],
            "text/html": [
              "\n",
              "  <div id=\"df-c590964b-9795-4a97-a476-831251b1a360\">\n",
              "    <div class=\"colab-df-container\">\n",
              "      <div>\n",
              "<style scoped>\n",
              "    .dataframe tbody tr th:only-of-type {\n",
              "        vertical-align: middle;\n",
              "    }\n",
              "\n",
              "    .dataframe tbody tr th {\n",
              "        vertical-align: top;\n",
              "    }\n",
              "\n",
              "    .dataframe thead th {\n",
              "        text-align: right;\n",
              "    }\n",
              "</style>\n",
              "<table border=\"1\" class=\"dataframe\">\n",
              "  <thead>\n",
              "    <tr style=\"text-align: right;\">\n",
              "      <th></th>\n",
              "      <th>0 hr</th>\n",
              "      <th>9.5 hr</th>\n",
              "      <th>11.5 hr</th>\n",
              "      <th>13.5 hr</th>\n",
              "      <th>15.5 hr</th>\n",
              "      <th>18.5 hr</th>\n",
              "      <th>20.5 hr</th>\n",
              "    </tr>\n",
              "  </thead>\n",
              "  <tbody>\n",
              "    <tr>\n",
              "      <th>1</th>\n",
              "      <td>-0.01</td>\n",
              "      <td>0.29</td>\n",
              "      <td>-0.42</td>\n",
              "      <td>-0.29</td>\n",
              "      <td>-0.07</td>\n",
              "      <td>0.04</td>\n",
              "      <td>0.06</td>\n",
              "    </tr>\n",
              "    <tr>\n",
              "      <th>2</th>\n",
              "      <td>0.00</td>\n",
              "      <td>0.19</td>\n",
              "      <td>0.12</td>\n",
              "      <td>-0.36</td>\n",
              "      <td>0.06</td>\n",
              "      <td>0.11</td>\n",
              "      <td>-0.15</td>\n",
              "    </tr>\n",
              "    <tr>\n",
              "      <th>3</th>\n",
              "      <td>0.06</td>\n",
              "      <td>0.03</td>\n",
              "      <td>0.07</td>\n",
              "      <td>-0.34</td>\n",
              "      <td>-0.03</td>\n",
              "      <td>0.08</td>\n",
              "      <td>-0.07</td>\n",
              "    </tr>\n",
              "    <tr>\n",
              "      <th>4</th>\n",
              "      <td>0.15</td>\n",
              "      <td>0.00</td>\n",
              "      <td>0.11</td>\n",
              "      <td>-0.23</td>\n",
              "      <td>0.03</td>\n",
              "      <td>0.01</td>\n",
              "      <td>-0.03</td>\n",
              "    </tr>\n",
              "    <tr>\n",
              "      <th>5</th>\n",
              "      <td>0.30</td>\n",
              "      <td>0.07</td>\n",
              "      <td>0.19</td>\n",
              "      <td>-0.23</td>\n",
              "      <td>-0.09</td>\n",
              "      <td>0.04</td>\n",
              "      <td>-0.10</td>\n",
              "    </tr>\n",
              "  </tbody>\n",
              "</table>\n",
              "</div>\n",
              "      <button class=\"colab-df-convert\" onclick=\"convertToInteractive('df-c590964b-9795-4a97-a476-831251b1a360')\"\n",
              "              title=\"Convert this dataframe to an interactive table.\"\n",
              "              style=\"display:none;\">\n",
              "        \n",
              "  <svg xmlns=\"http://www.w3.org/2000/svg\" height=\"24px\"viewBox=\"0 0 24 24\"\n",
              "       width=\"24px\">\n",
              "    <path d=\"M0 0h24v24H0V0z\" fill=\"none\"/>\n",
              "    <path d=\"M18.56 5.44l.94 2.06.94-2.06 2.06-.94-2.06-.94-.94-2.06-.94 2.06-2.06.94zm-11 1L8.5 8.5l.94-2.06 2.06-.94-2.06-.94L8.5 2.5l-.94 2.06-2.06.94zm10 10l.94 2.06.94-2.06 2.06-.94-2.06-.94-.94-2.06-.94 2.06-2.06.94z\"/><path d=\"M17.41 7.96l-1.37-1.37c-.4-.4-.92-.59-1.43-.59-.52 0-1.04.2-1.43.59L10.3 9.45l-7.72 7.72c-.78.78-.78 2.05 0 2.83L4 21.41c.39.39.9.59 1.41.59.51 0 1.02-.2 1.41-.59l7.78-7.78 2.81-2.81c.8-.78.8-2.07 0-2.86zM5.41 20L4 18.59l7.72-7.72 1.47 1.35L5.41 20z\"/>\n",
              "  </svg>\n",
              "      </button>\n",
              "      \n",
              "  <style>\n",
              "    .colab-df-container {\n",
              "      display:flex;\n",
              "      flex-wrap:wrap;\n",
              "      gap: 12px;\n",
              "    }\n",
              "\n",
              "    .colab-df-convert {\n",
              "      background-color: #E8F0FE;\n",
              "      border: none;\n",
              "      border-radius: 50%;\n",
              "      cursor: pointer;\n",
              "      display: none;\n",
              "      fill: #1967D2;\n",
              "      height: 32px;\n",
              "      padding: 0 0 0 0;\n",
              "      width: 32px;\n",
              "    }\n",
              "\n",
              "    .colab-df-convert:hover {\n",
              "      background-color: #E2EBFA;\n",
              "      box-shadow: 0px 1px 2px rgba(60, 64, 67, 0.3), 0px 1px 3px 1px rgba(60, 64, 67, 0.15);\n",
              "      fill: #174EA6;\n",
              "    }\n",
              "\n",
              "    [theme=dark] .colab-df-convert {\n",
              "      background-color: #3B4455;\n",
              "      fill: #D2E3FC;\n",
              "    }\n",
              "\n",
              "    [theme=dark] .colab-df-convert:hover {\n",
              "      background-color: #434B5C;\n",
              "      box-shadow: 0px 1px 3px 1px rgba(0, 0, 0, 0.15);\n",
              "      filter: drop-shadow(0px 1px 2px rgba(0, 0, 0, 0.3));\n",
              "      fill: #FFFFFF;\n",
              "    }\n",
              "  </style>\n",
              "\n",
              "      <script>\n",
              "        const buttonEl =\n",
              "          document.querySelector('#df-c590964b-9795-4a97-a476-831251b1a360 button.colab-df-convert');\n",
              "        buttonEl.style.display =\n",
              "          google.colab.kernel.accessAllowed ? 'block' : 'none';\n",
              "\n",
              "        async function convertToInteractive(key) {\n",
              "          const element = document.querySelector('#df-c590964b-9795-4a97-a476-831251b1a360');\n",
              "          const dataTable =\n",
              "            await google.colab.kernel.invokeFunction('convertToInteractive',\n",
              "                                                     [key], {});\n",
              "          if (!dataTable) return;\n",
              "\n",
              "          const docLinkHtml = 'Like what you see? Visit the ' +\n",
              "            '<a target=\"_blank\" href=https://colab.research.google.com/notebooks/data_table.ipynb>data table notebook</a>'\n",
              "            + ' to learn more about interactive tables.';\n",
              "          element.innerHTML = '';\n",
              "          dataTable['output_type'] = 'display_data';\n",
              "          await google.colab.output.renderOutput(dataTable, element);\n",
              "          const docLink = document.createElement('div');\n",
              "          docLink.innerHTML = docLinkHtml;\n",
              "          element.appendChild(docLink);\n",
              "        }\n",
              "      </script>\n",
              "    </div>\n",
              "  </div>\n",
              "  "
            ]
          },
          "metadata": {},
          "execution_count": 65
        }
      ]
    },
    {
      "cell_type": "code",
      "source": [
        "df.info()"
      ],
      "metadata": {
        "colab": {
          "base_uri": "https://localhost:8080/"
        },
        "outputId": "cd13ba20-853a-4870-f416-9f32825cfc02",
        "id": "elZitmV06f6l"
      },
      "execution_count": null,
      "outputs": [
        {
          "output_type": "stream",
          "name": "stdout",
          "text": [
            "<class 'pandas.core.frame.DataFrame'>\n",
            "Int64Index: 6034 entries, 1 to 6034\n",
            "Data columns (total 7 columns):\n",
            " #   Column   Non-Null Count  Dtype  \n",
            "---  ------   --------------  -----  \n",
            " 0   0 hr     6032 non-null   float64\n",
            " 1   9.5 hr   6004 non-null   float64\n",
            " 2   11.5 hr  5971 non-null   float64\n",
            " 3   13.5 hr  6023 non-null   float64\n",
            " 4   15.5 hr  6008 non-null   float64\n",
            " 5   18.5 hr  6034 non-null   float64\n",
            " 6   20.5 hr  5972 non-null   float64\n",
            "dtypes: float64(7)\n",
            "memory usage: 377.1 KB\n"
          ]
        }
      ]
    },
    {
      "cell_type": "code",
      "source": [
        "# KNN - effect of neighbours\n",
        "plt.figure(figsize = (10, 10))\n",
        "plt.grid()\n",
        "plt.xlabel(\"Number of Genes Used as Neighbours\")\n",
        "plt.ylabel(\"RMSE Error\")\n",
        "l1 = [.01, .05, .1, .15, .2]\n",
        "for i in l1:\n",
        "  knn_error = []\n",
        "  for k in [1,3,5,12,17,23,92,458,916]:\n",
        "    imputed, cor, original, ind = knn_impute_lib(df, i, k)\n",
        "    error = norm_rmse(imputed, original)\n",
        "    knn_error.append(error)\n",
        "    print(\"The rmse for {} neighbours is {}\".format(k,error))\n",
        "  plt.plot(np.arange(1,10), knn_error) #x axis use [1,3,5,12,17,23,92,458,916]!!\n",
        "\n",
        "plt.legend([\"1% entries missing\", \"5% entries missing\", \"10% entries missing\", \"15% entries missing\", \"20% entries missing\"], loc = \"upper right\")"
      ],
      "metadata": {
        "colab": {
          "base_uri": "https://localhost:8080/",
          "height": 1000
        },
        "outputId": "8891cf93-dba3-4642-dc10-4009e2ffabec",
        "id": "KR_DA94g7DBw"
      },
      "execution_count": null,
      "outputs": [
        {
          "output_type": "stream",
          "name": "stdout",
          "text": [
            "The rmse for 1 neighbours is 9.387150792439638\n",
            "The rmse for 3 neighbours is 6.744003921179825\n",
            "The rmse for 5 neighbours is 6.275551927918374\n",
            "The rmse for 12 neighbours is 6.39557507621915\n",
            "The rmse for 17 neighbours is 7.00295325739502\n",
            "The rmse for 23 neighbours is 5.744542211298591\n",
            "The rmse for 92 neighbours is 6.0025186339051135\n",
            "The rmse for 458 neighbours is 7.461977593221718\n",
            "The rmse for 916 neighbours is 7.373482383181805\n",
            "The rmse for 1 neighbours is 20.59125785375922\n",
            "The rmse for 3 neighbours is 17.25804611059884\n",
            "The rmse for 5 neighbours is 17.148975479602306\n",
            "The rmse for 12 neighbours is 16.020088864367217\n",
            "The rmse for 17 neighbours is 15.520718110237015\n",
            "The rmse for 23 neighbours is 16.003390000040117\n",
            "The rmse for 92 neighbours is 15.401514126658695\n",
            "The rmse for 458 neighbours is 16.64326699758068\n",
            "The rmse for 916 neighbours is 18.191972508947554\n",
            "The rmse for 1 neighbours is 36.98812782501985\n",
            "The rmse for 3 neighbours is 29.506246607945467\n",
            "The rmse for 5 neighbours is 27.049029113814814\n",
            "The rmse for 12 neighbours is 26.523592590161847\n",
            "The rmse for 17 neighbours is 25.256225317751557\n",
            "The rmse for 23 neighbours is 24.075945470189822\n",
            "The rmse for 92 neighbours is 25.180066408584725\n",
            "The rmse for 458 neighbours is 24.555010453970024\n",
            "The rmse for 916 neighbours is 25.054522493732936\n",
            "The rmse for 1 neighbours is 51.94775837319669\n",
            "The rmse for 3 neighbours is 39.33950313343713\n",
            "The rmse for 5 neighbours is 36.528302342156564\n",
            "The rmse for 12 neighbours is 34.3288152164718\n",
            "The rmse for 17 neighbours is 31.989599061208743\n",
            "The rmse for 23 neighbours is 30.979592279550484\n",
            "The rmse for 92 neighbours is 31.131055709817343\n",
            "The rmse for 458 neighbours is 31.007281782307064\n",
            "The rmse for 916 neighbours is 32.68181677584269\n",
            "The rmse for 1 neighbours is 61.669609209075226\n",
            "The rmse for 3 neighbours is 48.930043372599144\n",
            "The rmse for 5 neighbours is 46.9734050288033\n",
            "The rmse for 12 neighbours is 42.55134676841088\n",
            "The rmse for 17 neighbours is 40.922547485873274\n",
            "The rmse for 23 neighbours is 41.76602050482019\n",
            "The rmse for 92 neighbours is 37.69868836125184\n",
            "The rmse for 458 neighbours is 37.67100068102052\n",
            "The rmse for 916 neighbours is 38.797194053218334\n"
          ]
        },
        {
          "output_type": "execute_result",
          "data": {
            "text/plain": [
              "<matplotlib.legend.Legend at 0x7f85cfe31ee0>"
            ]
          },
          "metadata": {},
          "execution_count": 26
        },
        {
          "output_type": "display_data",
          "data": {
            "text/plain": [
              "<Figure size 720x720 with 1 Axes>"
            ],
            "image/png": "[encoded data removed]"
          },
          "metadata": {
            "needs_background": "light"
          }
        }
      ]
    },
    {
      "cell_type": "code",
      "source": [
        "l1 = [.01, .05, .1, .15, .2]\n",
        "knn_error = []\n",
        "for i in l1:\n",
        "  imputed, cor, original, ind = knn_impute_lib(df, i, 12)\n",
        "  error = norm_rmse(imputed, original)\n",
        "  knn_error.append(error)"
      ],
      "metadata": {
        "id": "iaklFbEhCnR5"
      },
      "execution_count": null,
      "outputs": []
    },
    {
      "cell_type": "code",
      "source": [
        "knn_error"
      ],
      "metadata": {
        "colab": {
          "base_uri": "https://localhost:8080/"
        },
        "id": "C-AJQFwZEmfx",
        "outputId": "2340dc27-84dc-44b9-90a9-3025e42e558d"
      },
      "execution_count": null,
      "outputs": [
        {
          "output_type": "execute_result",
          "data": {
            "text/plain": [
              "[7.843338070192649,\n",
              " 16.194399988027428,\n",
              " 25.742264655296605,\n",
              " 34.51683625018705,\n",
              " 42.33416199976357]"
            ]
          },
          "metadata": {},
          "execution_count": 54
        }
      ]
    },
    {
      "cell_type": "markdown",
      "source": [
        "## Dataset 3: Gasch [ non time series]\n"
      ],
      "metadata": {
        "id": "NeRARsPaRzZK"
      }
    },
    {
      "cell_type": "code",
      "source": [],
      "metadata": {
        "id": "lSWuyeKpR4oZ"
      },
      "execution_count": null,
      "outputs": []
    },
    {
      "cell_type": "markdown",
      "source": [
        "## Graphs of results from 3 datasets"
      ],
      "metadata": {
        "id": "YcgMpgbBR9Mg"
      }
    },
    {
      "cell_type": "code",
      "source": [
        "plt.figure(figsize = (10, 10))\n",
        "plt.grid()\n",
        "plt.title('Performance of KNN and Row-Average across datasets')\n",
        "plt.xlabel(\"Percentage of entries missing\")\n",
        "plt.ylabel(\"RMSE Error\")\n",
        "plt.plot(['1', '5', '10', '15', '20'], [21.73446475430465, 44.76559206580358, 63.606186277995796, 82.02006866944012, 93.9173429275148]) #spellman \n",
        "plt.plot(['1', '5', '10', '15', '20'], [7.843338070192649,16.194399988027428,25.742264655296605,34.51683625018705,42.33416199976357]) # derisi\n",
        "plt.plot(['1', '5', '10', '15', '20'], [10.907567995665648, 22.850439363152226, 34.67735231916203, 43.71711254820508, 53.31002895031229]) #gasch\n",
        "\n",
        "plt.plot(['1', '5', '10', '15', '20'], [27.548315014964054,58.88465712629803,85.08198348212319,103.6151752469333,120.24071515959976]) #spellman \n",
        "plt.plot(['1', '5', '10', '15', '20'], [11.076206544432488,23.81513730864908,34.33421123876832,42.842336072013964, 47.40399341170714]) # derisi\n",
        "plt.plot(['1', '5', '10', '15', '20'], [14.810754997882576, 33.683613522902895, 47.04072688484223, 57.85431749206883, 66.49777736456444]) #gasch\n",
        "\n",
        "plt.legend([\"time series KNN\", \"Noisy time series KNN\", \"non time series KNN\", \"time series Row-Average\", \"Noisy time series Row-Average\", \"non time series Row-Average\"], loc = \"upper right\")"
      ],
      "metadata": {
        "colab": {
          "base_uri": "https://localhost:8080/",
          "height": 638
        },
        "id": "NFnRya9wMUZb",
        "outputId": "c7a2e4ef-b2c8-4b54-d9aa-0ccd763b19a2"
      },
      "execution_count": null,
      "outputs": [
        {
          "output_type": "execute_result",
          "data": {
            "text/plain": [
              "<matplotlib.legend.Legend at 0x7f85cd403dc0>"
            ]
          },
          "metadata": {},
          "execution_count": 76
        },
        {
          "output_type": "display_data",
          "data": {
            "text/plain": [
              "<Figure size 720x720 with 1 Axes>"
            ],
            "image/png": "[encoded data removed]"
          },
          "metadata": {
            "needs_background": "light"
          }
        }
      ]
    }
  ]
}